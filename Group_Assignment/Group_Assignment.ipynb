{
 "cells": [
  {
   "cell_type": "markdown",
   "id": "opened-patch",
   "metadata": {},
   "source": [
    "# Code Validation and Functional Tests\n",
    "## Group 4\n",
    "### Group Members\n",
    "- Aaron Hanna; A15683824\n",
    "-\n",
    "-\n"
   ]
  },
  {
   "cell_type": "code",
   "execution_count": null,
   "id": "vulnerable-finish",
   "metadata": {},
   "outputs": [],
   "source": []
  },
  {
   "cell_type": "markdown",
   "id": "italic-confusion",
   "metadata": {},
   "source": [
    "## Question 1: Powers of 3\n",
    "Given an int: n, return a list of 'weights' that when added/multiplied with a set produce the int given.\n",
    "\n"
   ]
  },
  {
   "cell_type": "markdown",
   "id": "responsible-shepherd",
   "metadata": {},
   "source": [
    "#### Validation Tests"
   ]
  },
  {
   "cell_type": "code",
   "execution_count": null,
   "id": "alive-string",
   "metadata": {},
   "outputs": [],
   "source": [
    "assert "
   ]
  },
  {
   "cell_type": "markdown",
   "id": "civilian-centre",
   "metadata": {},
   "source": [
    "#### Functional Tests"
   ]
  },
  {
   "cell_type": "code",
   "execution_count": null,
   "id": "burning-bathroom",
   "metadata": {},
   "outputs": [],
   "source": []
  },
  {
   "cell_type": "markdown",
   "id": "functional-glory",
   "metadata": {},
   "source": [
    "## Question 2: Write Columns"
   ]
  },
  {
   "cell_type": "markdown",
   "id": "continuous-release",
   "metadata": {},
   "source": [
    "#### Validation Tests"
   ]
  },
  {
   "cell_type": "code",
   "execution_count": null,
   "id": "competent-beads",
   "metadata": {},
   "outputs": [],
   "source": []
  },
  {
   "cell_type": "markdown",
   "id": "falling-coordination",
   "metadata": {},
   "source": [
    "#### Functional Tests"
   ]
  },
  {
   "cell_type": "code",
   "execution_count": null,
   "id": "dutch-butterfly",
   "metadata": {},
   "outputs": [],
   "source": []
  },
  {
   "cell_type": "markdown",
   "id": "fabulous-kenya",
   "metadata": {},
   "source": [
    "## Question 3: Non-Overlapping Sequences"
   ]
  },
  {
   "cell_type": "markdown",
   "id": "color-agent",
   "metadata": {},
   "source": [
    "#### Validation Tests"
   ]
  },
  {
   "cell_type": "code",
   "execution_count": null,
   "id": "derived-rehabilitation",
   "metadata": {},
   "outputs": [],
   "source": []
  },
  {
   "cell_type": "markdown",
   "id": "spiritual-attack",
   "metadata": {},
   "source": [
    "#### Functional Tests"
   ]
  },
  {
   "cell_type": "code",
   "execution_count": null,
   "id": "sharp-commercial",
   "metadata": {},
   "outputs": [],
   "source": []
  }
 ],
 "metadata": {
  "kernelspec": {
   "display_name": "Python 3",
   "language": "python",
   "name": "python3"
  },
  "language_info": {
   "codemirror_mode": {
    "name": "ipython",
    "version": 3
   },
   "file_extension": ".py",
   "mimetype": "text/x-python",
   "name": "python",
   "nbconvert_exporter": "python",
   "pygments_lexer": "ipython3",
   "version": "3.8.5"
  }
 },
 "nbformat": 4,
 "nbformat_minor": 5
}
